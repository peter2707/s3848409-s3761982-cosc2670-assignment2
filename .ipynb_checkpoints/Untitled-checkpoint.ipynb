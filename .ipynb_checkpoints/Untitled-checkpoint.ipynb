{
 "cells": [
  {
   "cell_type": "code",
   "execution_count": null,
   "metadata": {},
   "outputs": [],
   "source": [
    "hf['anaemia'] = hf['anaemia'].astype(str)\n",
    "hf['diabetes'] = hf['diabetes'].astype(str)\n",
    "hf['high_blood_pressure'] = hf['high_blood_pressure'].astype(str)\n",
    "hf['sex'] = hf['sex'].astype(str)\n",
    "hf['smoking'] = hf['smoking'].astype(str)\n",
    "hf['DEATH_EVENT'] = hf['DEATH_EVENT'].astype(str)"
   ]
  },
  {
   "cell_type": "code",
   "execution_count": null,
   "metadata": {},
   "outputs": [],
   "source": [
    "hf['anaemia'].replace('1', 'yes', inplace=True)\n",
    "hf['anaemia'].replace('0', 'no', inplace=True)\n",
    "hf['diabetes'].replace('1', 'yes', inplace=True)\n",
    "hf['diabetes'].replace('0', 'no', inplace=True)\n",
    "hf['high_blood_pressure'].replace('1', 'yes', inplace=True)\n",
    "hf['high_blood_pressure'].replace('0', 'no', inplace=True)\n",
    "hf['sex'].replace('1', 'Male', inplace=True)\n",
    "hf['sex'].replace('0', 'Female', inplace=True)\n",
    "hf['smoking'].replace('1', 'yes', inplace=True)\n",
    "hf['smoking'].replace('0', 'no', inplace=True)\n",
    "hf['DEATH_EVENT'].replace('1', 'yes', inplace=True)\n",
    "hf['DEATH_EVENT'].replace('0', 'no', inplace=True)"
   ]
  }
 ],
 "metadata": {
  "kernelspec": {
   "display_name": "Python 3",
   "language": "python",
   "name": "python3"
  },
  "language_info": {
   "codemirror_mode": {
    "name": "ipython",
    "version": 3
   },
   "file_extension": ".py",
   "mimetype": "text/x-python",
   "name": "python",
   "nbconvert_exporter": "python",
   "pygments_lexer": "ipython3",
   "version": "3.8.5"
  }
 },
 "nbformat": 4,
 "nbformat_minor": 4
}
